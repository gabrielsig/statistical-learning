{
 "cells": [
  {
   "cell_type": "markdown",
   "metadata": {},
   "source": [
    "# Chapter 3 - Linear Regression"
   ]
  },
  {
   "cell_type": "markdown",
   "metadata": {},
   "source": [
    "This chapter is about lienar regression, a simple yet useful tool to predict a quantitative response in a supervised learning context. Many modern day statistical learning aproaches can be seen as generalizations or extensions of linear regression."
   ]
  },
  {
   "cell_type": "code",
   "execution_count": 2,
   "metadata": {
    "collapsed": true
   },
   "outputs": [],
   "source": [
    "import numpy as np\n",
    "import pandas as pd\n",
    "import matplotlib.pyplot as plt\n",
    "import seaborn as sns\n",
    "\n",
    "%matplotlib inline\n",
    "sns.set(style=\"darkgrid\", palette=\"Set1\")"
   ]
  },
  {
   "cell_type": "markdown",
   "metadata": {},
   "source": [
    "We are going to use the _Advertising.csv_ dataset and will try to answer some of the following statements:\n",
    "\n",
    "1. Is there a relationship between advertising budget and sales?\n",
    "2. How strong is the relationship between advertising budget and sales?\n",
    "3. Which media contribute to sales?\n",
    "4. How accurately can we estimate de effect of each medium on sales?\n",
    "5. How accurately can we predict future sales?\n",
    "6. Is the relationship linear?\n",
    "7. Is there synergy among the advertising media?\n",
    "\n",
    "First, we can load the data set into a pandas DataFrame:"
   ]
  },
  {
   "cell_type": "code",
   "execution_count": 3,
   "metadata": {},
   "outputs": [
    {
     "data": {
      "text/html": [
       "<div>\n",
       "<style>\n",
       "    .dataframe thead tr:only-child th {\n",
       "        text-align: right;\n",
       "    }\n",
       "\n",
       "    .dataframe thead th {\n",
       "        text-align: left;\n",
       "    }\n",
       "\n",
       "    .dataframe tbody tr th {\n",
       "        vertical-align: top;\n",
       "    }\n",
       "</style>\n",
       "<table border=\"1\" class=\"dataframe\">\n",
       "  <thead>\n",
       "    <tr style=\"text-align: right;\">\n",
       "      <th></th>\n",
       "      <th>TV</th>\n",
       "      <th>Radio</th>\n",
       "      <th>Newspaper</th>\n",
       "      <th>Sales</th>\n",
       "    </tr>\n",
       "  </thead>\n",
       "  <tbody>\n",
       "    <tr>\n",
       "      <th>1</th>\n",
       "      <td>230.1</td>\n",
       "      <td>37.8</td>\n",
       "      <td>69.2</td>\n",
       "      <td>22.1</td>\n",
       "    </tr>\n",
       "    <tr>\n",
       "      <th>2</th>\n",
       "      <td>44.5</td>\n",
       "      <td>39.3</td>\n",
       "      <td>45.1</td>\n",
       "      <td>10.4</td>\n",
       "    </tr>\n",
       "    <tr>\n",
       "      <th>3</th>\n",
       "      <td>17.2</td>\n",
       "      <td>45.9</td>\n",
       "      <td>69.3</td>\n",
       "      <td>9.3</td>\n",
       "    </tr>\n",
       "    <tr>\n",
       "      <th>4</th>\n",
       "      <td>151.5</td>\n",
       "      <td>41.3</td>\n",
       "      <td>58.5</td>\n",
       "      <td>18.5</td>\n",
       "    </tr>\n",
       "    <tr>\n",
       "      <th>5</th>\n",
       "      <td>180.8</td>\n",
       "      <td>10.8</td>\n",
       "      <td>58.4</td>\n",
       "      <td>12.9</td>\n",
       "    </tr>\n",
       "  </tbody>\n",
       "</table>\n",
       "</div>"
      ],
      "text/plain": [
       "      TV  Radio  Newspaper  Sales\n",
       "1  230.1   37.8       69.2   22.1\n",
       "2   44.5   39.3       45.1   10.4\n",
       "3   17.2   45.9       69.3    9.3\n",
       "4  151.5   41.3       58.5   18.5\n",
       "5  180.8   10.8       58.4   12.9"
      ]
     },
     "execution_count": 3,
     "metadata": {},
     "output_type": "execute_result"
    }
   ],
   "source": [
    "ads = pd.read_csv(\"../data/Advertising.csv\", index_col=0)\n",
    "ads.head()"
   ]
  },
  {
   "cell_type": "markdown",
   "metadata": {},
   "source": [
    "## 3.1 Simple Lienar Regression"
   ]
  },
  {
   "cell_type": "markdown",
   "metadata": {},
   "source": [
    "Simple linear regression is an approach for predicting a quantitative reponse **Y** from a single predictor variable **X**, assuming that there is a approximately linear relationship between the two.\n",
    "\n",
    "This linear equation can be written as follows:"
   ]
  },
  {
   "cell_type": "markdown",
   "metadata": {},
   "source": [
    "$$\n",
    "Y \\approx \\beta_0  + \\beta_1 X\n",
    "$$"
   ]
  },
  {
   "cell_type": "markdown",
   "metadata": {},
   "source": [
    "In our case we can regress the **Sales** onto **TV** by fitting the following model :"
   ]
  },
  {
   "cell_type": "markdown",
   "metadata": {},
   "source": [
    "$$\n",
    "Sales \\approx \\beta_0  + \\beta_1 \\times TV\n",
    "$$"
   ]
  },
  {
   "cell_type": "markdown",
   "metadata": {},
   "source": [
    "Where:\n",
    "\n",
    "- $\\beta_0$ and $\\beta_1$ are respectively the **intercept** and **slope** of the linear model\n",
    "- Together, $\\beta_0$ and $\\beta_1$ are know as the **model coefficients** or **parameters**"
   ]
  },
  {
   "cell_type": "markdown",
   "metadata": {},
   "source": [
    "After we fit our model with the training data to produce the estimates $\\hat{\\beta_0}$ and $\\hat{\\beta_1}$, we can predict future sales ($\\hat{y}$) for a particular value of TV advertising:\n"
   ]
  },
  {
   "cell_type": "markdown",
   "metadata": {},
   "source": [
    "$$\n",
    "\\hat{y} \\approx \\hat{\\beta_0}  + \\hat{\\beta_1} x\n",
    "$$"
   ]
  },
  {
   "cell_type": "markdown",
   "metadata": {},
   "source": [
    "Where $\\hat{y}$ indicates the prediction of **Y** when **X** = x"
   ]
  },
  {
   "cell_type": "markdown",
   "metadata": {},
   "source": [
    "### 3.1.1 Estimating the Coefficients|"
   ]
  },
  {
   "cell_type": "markdown",
   "metadata": {},
   "source": [
    "The values of $\\beta_0$ and $\\beta_1$ are unknown, so our goal is to obtain the estimates $\\hat{\\beta_0}$ and $\\hat{\\beta_1}$ such that the resulting line is as close as possible to the *n=200* datapoints. In other words, we have to find $\\hat{\\beta_0}$ and $\\hat{\\beta_1}$ such that:\n",
    "\n",
    "$$\n",
    "y_i \\approx \\hat{\\beta_0}  + \\hat{\\beta_1} x_i \\\\\n",
    "i = 1, ... , n\n",
    "$$\n",
    "\n",
    "We will be using the **least squares criterion** to measure the *closeness* of the data point to the regression line"
   ]
  },
  {
   "cell_type": "code",
   "execution_count": 4,
   "metadata": {},
   "outputs": [
    {
     "data": {
      "image/png": "[encoded data removed]",
      "text/plain": [
       "<matplotlib.figure.Figure at 0x7fcc696cecf8>"
      ]
     },
     "metadata": {},
     "output_type": "display_data"
    }
   ],
   "source": [
    "plt.figure(figsize=(8,6))\n",
    "sns.regplot(x=ads['TV'], y=ads['Sales'],data=ads, ci=None)\n",
    "plt.title(\"Regression of Sales onto TV budget\")\n",
    "plt.show()"
   ]
  },
  {
   "cell_type": "markdown",
   "metadata": {},
   "source": [
    "We define the prediction of Y based on the *i*th value of X as being:\n",
    "\n",
    "$$\n",
    "\\hat{y_i} = \\hat{\\beta_0} + \\hat{\\beta_1} x_i\n",
    "$$\n",
    "\n",
    "Then $e_i = y_i - \\hat{y_i}$ represents the *i*th **residual** i.e. the difference between the observed and predicted values of *y*\n",
    "\n",
    "the **residual sum of squares (RSS)** is defined as:\n",
    "\n",
    "$$\n",
    "RSS = e_1^2 \\, + \\, e_2^2 \\, + \\, ... \\, + \\, e_n^2\n",
    "$$\n",
    "\n",
    "$$\n",
    "RSS = (y_1 - \\hat{\\beta_0} - \\hat{\\beta_1} x_1)^2 +\n",
    "      (y_2 - \\hat{\\beta_0} - \\hat{\\beta_1} x_2)^2 + \\, ...\\, +\n",
    "      (y_n - \\hat{\\beta_0} - \\hat{\\beta_1} x_n)^2\n",
    "$$\n",
    "\n",
    "So if our goal is to minimize the **RSS**, obtain the minimizers as:\n",
    "\n",
    "$$\n",
    "\\hat{\\beta_1} = \\frac{\\sum_{i=1}^n (x_i - \\bar{x})(y_i - \\bar{y})}{\\sum_{i=1}^n (x_i - \\bar{x})^2} \\\\\n",
    "$$\n",
    "\n",
    "$$\n",
    "\\hat{\\beta_0} = \\bar{y} - \\hat{\\beta_1} \\bar{x}\n",
    "$$\n",
    "\n",
    "Where $\\bar{y}$ and $\\bar{x}$ are the **sample means**."
   ]
  },
  {
   "cell_type": "markdown",
   "metadata": {},
   "source": [
    "We can obtain the $\\hat{\\beta_0}$ and $\\hat{\\beta_1}$ for the regression of Sales onto TV budget:"
   ]
  },
  {
   "cell_type": "code",
   "execution_count": 14,
   "metadata": {},
   "outputs": [
    {
     "name": "stdout",
     "output_type": "stream",
     "text": [
      "TV budget mean: 147.0425\n",
      "Sales mean: 14.022500000000003\n"
     ]
    }
   ],
   "source": [
    "x_mean = ads['TV'].mean()\n",
    "y_mean = ads['Sales'].mean()\n",
    "print(\"TV budget mean: {}\".format(x_mean))\n",
    "print(\"Sales mean: {}\".format(y_mean))"
   ]
  },
  {
   "cell_type": "code",
   "execution_count": 21,
   "metadata": {},
   "outputs": [
    {
     "name": "stdout",
     "output_type": "stream",
     "text": [
      "β̂0 = 7.03259354913\n",
      "β̂1 = 0.047536640433\n",
      "RSS = 2102.53058313\n"
     ]
    }
   ],
   "source": [
    "def get_b1 (x, y):\n",
    "    n = len(x)\n",
    "    x_mean = x.mean()\n",
    "    y_mean = y.mean()\n",
    "    \n",
    "    numerator = 0\n",
    "    denominator = 0\n",
    "    \n",
    "    for i in range(0, n):\n",
    "        numerator += (x.iloc[i]-x_mean)*(y.iloc[i]-y_mean)\n",
    "        denominator += (x.iloc[i]- x_mean)**2\n",
    "    \n",
    "    return numerator/denominator\n",
    "\n",
    "def get_b0(x, y):\n",
    "    return y.mean() - get_b1(x,y)*x.mean()\n",
    "\n",
    "def get_RSS(x, y):\n",
    "    rss = 0\n",
    "    n = len(x)\n",
    "    \n",
    "    b0 = get_b0(x, y)\n",
    "    b1 = get_b1(x, y)\n",
    "    \n",
    "    for i in range(0, n):\n",
    "        rss += (y.iloc[i] - b0 - b1* x.iloc[i])**2\n",
    "        \n",
    "    return rss\n",
    "\n",
    "\n",
    "b1 = get_b1(ads['TV'], ads['Sales'])\n",
    "b0 = get_b0(ads['TV'], ads['Sales'])\n",
    "RSS = get_RSS(ads['TV'], ads['Sales'])\n",
    "\n",
    "print(\"β̂0 =\", b0)\n",
    "print(\"β̂1 =\", b1)\n",
    "print(\"RSS =\", RSS)"
   ]
  },
  {
   "cell_type": "markdown",
   "metadata": {
    "collapsed": true
   },
   "source": [
    " * **Verifying with scikit learn:**"
   ]
  },
  {
   "cell_type": "code",
   "execution_count": 15,
   "metadata": {},
   "outputs": [
    {
     "name": "stdout",
     "output_type": "stream",
     "text": [
      "β̂0 = 7.03259354913\n",
      "β̂1 = 0.047536640433\n"
     ]
    }
   ],
   "source": [
    "from sklearn.linear_model import LinearRegression\n",
    "\n",
    "reg = LinearRegression()\n",
    "\n",
    "X = ads['TV'].values.reshape(-1, 1)\n",
    "y = ads['Sales']\n",
    "\n",
    "reg.fit(X,y)\n",
    "\n",
    "print(\"β̂0 =\", reg.intercept_)\n",
    "print(\"β̂1 =\", reg.coef_[0])"
   ]
  },
  {
   "cell_type": "markdown",
   "metadata": {},
   "source": [
    "From this results we can styate that a $1000 ingrease in the TV advertisement budget leads to a increase of 47.5 in sales"
   ]
  },
  {
   "cell_type": "markdown",
   "metadata": {},
   "source": [
    "### 3.1.2 Assessing the Accuracy of the Coefficient Estimates"
   ]
  },
  {
   "cell_type": "code",
   "execution_count": null,
   "metadata": {
    "collapsed": true
   },
   "outputs": [],
   "source": []
  }
 ],
 "metadata": {
  "kernelspec": {
   "display_name": "Python 3",
   "language": "python",
   "name": "python3"
  },
  "language_info": {
   "codemirror_mode": {
    "name": "ipython",
    "version": 3
   },
   "file_extension": ".py",
   "mimetype": "text/x-python",
   "name": "python",
   "nbconvert_exporter": "python",
   "pygments_lexer": "ipython3",
   "version": "3.6.1"
  }
 },
 "nbformat": 4,
 "nbformat_minor": 2
}
